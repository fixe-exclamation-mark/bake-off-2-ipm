{
 "cells": [
  {
   "cell_type": "markdown",
   "metadata": {},
   "source": [
    "# Stats - IPM Bake-off 2"
   ]
  },
  {
   "cell_type": "markdown",
   "metadata": {},
   "source": [
    "Our system collects the user's trial data, such as the time they took to perform the challenge, the number of hits and misses, the features they were testing at the time and so on.\n",
    "We then process the data to create a statistical summary of the user's performance, trying to find where we could improve our design."
   ]
  },
  {
   "cell_type": "markdown",
   "metadata": {},
   "source": [
    "### Fetching Data from Firebase"
   ]
  },
  {
   "cell_type": "code",
   "execution_count": 52,
   "metadata": {},
   "outputs": [],
   "source": [
    "import firebase_admin\n",
    "from firebase_admin import credentials\n",
    "from firebase_admin import db"
   ]
  },
  {
   "cell_type": "markdown",
   "metadata": {},
   "source": [
    "WARNING: Don't run the cell below more than once without change the name property"
   ]
  },
  {
   "cell_type": "code",
   "execution_count": 53,
   "metadata": {},
   "outputs": [
    {
     "ename": "ValueError",
     "evalue": "Firebase app named \"ipm-default-rtdb\" already exists. This means you called initialize_app() more than once with the same app name as the second argument. Make sure you provide a unique name every time you call initialize_app().",
     "output_type": "error",
     "traceback": [
      "\u001b[0;31m---------------------------------------------------------------------------\u001b[0m",
      "\u001b[0;31mValueError\u001b[0m                                Traceback (most recent call last)",
      "\u001b[1;32m/home/gaspa/tecas-stuff/ipm/bake-off-2-ipm/stats.ipynb Cell 5'\u001b[0m in \u001b[0;36m<cell line: 2>\u001b[0;34m()\u001b[0m\n\u001b[1;32m      <a href='vscode-notebook-cell:/home/gaspa/tecas-stuff/ipm/bake-off-2-ipm/stats.ipynb#ch0000007?line=0'>1</a>\u001b[0m cred \u001b[39m=\u001b[39m credentials\u001b[39m.\u001b[39mCertificate(\u001b[39m'\u001b[39m\u001b[39mbake-off-auth.json\u001b[39m\u001b[39m'\u001b[39m)\n\u001b[0;32m----> <a href='vscode-notebook-cell:/home/gaspa/tecas-stuff/ipm/bake-off-2-ipm/stats.ipynb#ch0000007?line=1'>2</a>\u001b[0m firebase_admin\u001b[39m.\u001b[39;49minitialize_app(cred, {\n\u001b[1;32m      <a href='vscode-notebook-cell:/home/gaspa/tecas-stuff/ipm/bake-off-2-ipm/stats.ipynb#ch0000007?line=2'>3</a>\u001b[0m   \u001b[39m'\u001b[39;49m\u001b[39mdatabaseURL\u001b[39;49m\u001b[39m'\u001b[39;49m: \u001b[39m'\u001b[39;49m\u001b[39mhttps://fixe-bake-off-2-ipm-default-rtdb.europe-west1.firebasedatabase.app\u001b[39;49m\u001b[39m'\u001b[39;49m,\n\u001b[1;32m      <a href='vscode-notebook-cell:/home/gaspa/tecas-stuff/ipm/bake-off-2-ipm/stats.ipynb#ch0000007?line=3'>4</a>\u001b[0m }, name\u001b[39m=\u001b[39;49m\u001b[39m'\u001b[39;49m\u001b[39mipm-default-rtdb\u001b[39;49m\u001b[39m'\u001b[39;49m)\n",
      "File \u001b[0;32m~/.local/lib/python3.10/site-packages/firebase_admin/__init__.py:79\u001b[0m, in \u001b[0;36minitialize_app\u001b[0;34m(credential, options, name)\u001b[0m\n\u001b[1;32m     <a href='file:///home/gaspa/.local/lib/python3.10/site-packages/firebase_admin/__init__.py?line=69'>70</a>\u001b[0m \u001b[39mif\u001b[39;00m name \u001b[39m==\u001b[39m _DEFAULT_APP_NAME:\n\u001b[1;32m     <a href='file:///home/gaspa/.local/lib/python3.10/site-packages/firebase_admin/__init__.py?line=70'>71</a>\u001b[0m     \u001b[39mraise\u001b[39;00m \u001b[39mValueError\u001b[39;00m((\n\u001b[1;32m     <a href='file:///home/gaspa/.local/lib/python3.10/site-packages/firebase_admin/__init__.py?line=71'>72</a>\u001b[0m         \u001b[39m'\u001b[39m\u001b[39mThe default Firebase app already exists. This means you called \u001b[39m\u001b[39m'\u001b[39m\n\u001b[1;32m     <a href='file:///home/gaspa/.local/lib/python3.10/site-packages/firebase_admin/__init__.py?line=72'>73</a>\u001b[0m         \u001b[39m'\u001b[39m\u001b[39minitialize_app() more than once without providing an app name as \u001b[39m\u001b[39m'\u001b[39m\n\u001b[0;32m   (...)\u001b[0m\n\u001b[1;32m     <a href='file:///home/gaspa/.local/lib/python3.10/site-packages/firebase_admin/__init__.py?line=75'>76</a>\u001b[0m         \u001b[39m'\u001b[39m\u001b[39mapps, pass a second argument to initialize_app() to give each app \u001b[39m\u001b[39m'\u001b[39m\n\u001b[1;32m     <a href='file:///home/gaspa/.local/lib/python3.10/site-packages/firebase_admin/__init__.py?line=76'>77</a>\u001b[0m         \u001b[39m'\u001b[39m\u001b[39ma unique name.\u001b[39m\u001b[39m'\u001b[39m))\n\u001b[0;32m---> <a href='file:///home/gaspa/.local/lib/python3.10/site-packages/firebase_admin/__init__.py?line=78'>79</a>\u001b[0m \u001b[39mraise\u001b[39;00m \u001b[39mValueError\u001b[39;00m((\n\u001b[1;32m     <a href='file:///home/gaspa/.local/lib/python3.10/site-packages/firebase_admin/__init__.py?line=79'>80</a>\u001b[0m     \u001b[39m'\u001b[39m\u001b[39mFirebase app named \u001b[39m\u001b[39m\"\u001b[39m\u001b[39m{0}\u001b[39;00m\u001b[39m\"\u001b[39m\u001b[39m already exists. This means you called \u001b[39m\u001b[39m'\u001b[39m\n\u001b[1;32m     <a href='file:///home/gaspa/.local/lib/python3.10/site-packages/firebase_admin/__init__.py?line=80'>81</a>\u001b[0m     \u001b[39m'\u001b[39m\u001b[39minitialize_app() more than once with the same app name as the \u001b[39m\u001b[39m'\u001b[39m\n\u001b[1;32m     <a href='file:///home/gaspa/.local/lib/python3.10/site-packages/firebase_admin/__init__.py?line=81'>82</a>\u001b[0m     \u001b[39m'\u001b[39m\u001b[39msecond argument. Make sure you provide a unique name every time \u001b[39m\u001b[39m'\u001b[39m\n\u001b[1;32m     <a href='file:///home/gaspa/.local/lib/python3.10/site-packages/firebase_admin/__init__.py?line=82'>83</a>\u001b[0m     \u001b[39m'\u001b[39m\u001b[39myou call initialize_app().\u001b[39m\u001b[39m'\u001b[39m)\u001b[39m.\u001b[39mformat(name))\n",
      "\u001b[0;31mValueError\u001b[0m: Firebase app named \"ipm-default-rtdb\" already exists. This means you called initialize_app() more than once with the same app name as the second argument. Make sure you provide a unique name every time you call initialize_app()."
     ]
    }
   ],
   "source": [
    "cred = credentials.Certificate('bake-off-auth.json')\n",
    "firebase_admin.initialize_app(cred, {\n",
    "  'databaseURL': 'https://fixe-bake-off-2-ipm-default-rtdb.europe-west1.firebasedatabase.app',\n",
    "}, name='ipm-default')\n"
   ]
  },
  {
   "cell_type": "code",
   "execution_count": null,
   "metadata": {},
   "outputs": [],
   "source": [
    "ref = db.reference('G3/')"
   ]
  },
  {
   "cell_type": "markdown",
   "metadata": {},
   "source": [
    "### Data Cleaning/Processing"
   ]
  },
  {
   "cell_type": "markdown",
   "metadata": {},
   "source": []
  }
 ],
 "metadata": {
  "interpreter": {
   "hash": "e7370f93d1d0cde622a1f8e1c04877d8463912d04d973331ad4851f04de6915a"
  },
  "kernelspec": {
   "display_name": "Python 3.10.4 64-bit",
   "language": "python",
   "name": "python3"
  },
  "language_info": {
   "codemirror_mode": {
    "name": "ipython",
    "version": 3
   },
   "file_extension": ".py",
   "mimetype": "text/x-python",
   "name": "python",
   "nbconvert_exporter": "python",
   "pygments_lexer": "ipython3",
   "version": "3.10.4"
  },
  "orig_nbformat": 4
 },
 "nbformat": 4,
 "nbformat_minor": 2
}
